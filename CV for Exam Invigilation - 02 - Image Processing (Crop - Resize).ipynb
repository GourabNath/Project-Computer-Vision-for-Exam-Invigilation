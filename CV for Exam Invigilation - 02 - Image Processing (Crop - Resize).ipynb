{
 "cells": [
  {
   "cell_type": "markdown",
   "metadata": {},
   "source": [
    "## Image Processing"
   ]
  },
  {
   "cell_type": "code",
   "execution_count": null,
   "metadata": {
    "collapsed": true
   },
   "outputs": [],
   "source": [
    "from PIL import Image  #Pillow library (pip install pillow); Image is for cropping\n",
    "import glob            #This library is used for image resizing\n",
    "import cv2"
   ]
  },
  {
   "cell_type": "code",
   "execution_count": null,
   "metadata": {
    "collapsed": true
   },
   "outputs": [],
   "source": [
    "#Step 1\n",
    "i=0\n",
    "#range is 0 to 200 since it loads the images from frame0 to frame 200\n",
    "for i in range(0,200): \n",
    "    #load the original images shared by Karthik -in my case the name was frame0,frame1... for Jatins images\n",
    "    image = Image.open(\"F:\\\\dasar_haartrain\\\\positive\\\\rawdata\\\\frame\"+str(i)+\".jpg\")\n",
    "    #place the x coordinate,y coordinate, w width, height -adjust according to thr requirement\n",
    "    box = (740, 0, 1320, 720)\n",
    "    #Code crops the image\n",
    "    cropped_image = image.crop(box)\n",
    "    # Saves the image in the desired folder #Note Please give different names for different images \n",
    "    # images need to be of bmp format.\n",
    "    cropped_image.save(\"F:\\\\dasar_haartrain\\\\positive\\\\Updated\\\\new\"+str(i)+\".bmp\")\n",
    "\n"
   ]
  },
  {
   "cell_type": "code",
   "execution_count": null,
   "metadata": {
    "collapsed": true
   },
   "outputs": [],
   "source": [
    "#Step 2\n",
    "#Load the Resize Image created above and resize it -100 X 100 works in our case\n",
    "#\n",
    "i=0\n",
    "for imag in glob.glob(\"F:\\\\dasar_haartrain\\\\positive\\\\*.bmp\"):    #1\n",
    "        #print(img)\n",
    "        #img.\n",
    "        img= cv2.imread(imag)\n",
    "        resized_image = cv2.resize(img, (100, 100))               #2\n",
    "        cv2.imwrite(\"F:\\\\dasar_haartrain\\\\positive\\\\Resize\\\\frame\"+str(i)+\".bmp\",resized_image)\n",
    "        #print(resized_image)\n",
    "        i=i+1\n",
    "        \n",
    "#Comments:\n",
    "\n",
    "#1: glob.glob() returns a list of paths matching a pathname pattern (we have used this to read all .bmp files from a folder)\n",
    "#2: Re-sizing the images to 100 x 100 pixel"
   ]
  }
 ],
 "metadata": {
  "kernelspec": {
   "display_name": "Python 3",
   "language": "python",
   "name": "python3"
  },
  "language_info": {
   "codemirror_mode": {
    "name": "ipython",
    "version": 3
   },
   "file_extension": ".py",
   "mimetype": "text/x-python",
   "name": "python",
   "nbconvert_exporter": "python",
   "pygments_lexer": "ipython3",
   "version": "3.6.0"
  }
 },
 "nbformat": 4,
 "nbformat_minor": 2
}
