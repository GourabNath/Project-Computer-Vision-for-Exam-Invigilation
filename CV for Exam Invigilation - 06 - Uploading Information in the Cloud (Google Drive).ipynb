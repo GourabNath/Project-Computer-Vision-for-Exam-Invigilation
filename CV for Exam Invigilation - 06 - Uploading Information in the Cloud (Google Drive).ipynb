{
 "cells": [
  {
   "cell_type": "markdown",
   "metadata": {},
   "source": [
    "## Communicating with Multiple Systems via Cloud\n",
    "### (Uploading Information in the Google Drive automatically)"
   ]
  },
  {
   "cell_type": "code",
   "execution_count": null,
   "metadata": {
    "collapsed": true
   },
   "outputs": [],
   "source": [
    "import os"
   ]
  },
  {
   "cell_type": "code",
   "execution_count": null,
   "metadata": {
    "collapsed": true
   },
   "outputs": [],
   "source": [
    "os.getcwd()"
   ]
  },
  {
   "cell_type": "markdown",
   "metadata": {},
   "source": [
    "### Authentication"
   ]
  },
  {
   "cell_type": "code",
   "execution_count": null,
   "metadata": {
    "collapsed": true
   },
   "outputs": [],
   "source": [
    "from pydrive.auth import GoogleAuth\n",
    "from pydrive.drive import GoogleDrive\n",
    "\n",
    "gauth = GoogleAuth()\n",
    "gauth.LocalWebserverAuth()\n",
    "\n",
    "drive = GoogleDrive(gauth)\n",
    "\n",
    "file1 = drive.CreateFile({'title': 'Hello.txt'})  # Create GoogleDriveFile instance with title 'Hello.txt'.\n",
    "file1.SetContentString('Hello World!') # Set content of the file from given string.\n",
    "file1.Upload()"
   ]
  },
  {
   "cell_type": "markdown",
   "metadata": {},
   "source": [
    "### How to Upload different types of files in Google Drive?"
   ]
  },
  {
   "cell_type": "code",
   "execution_count": null,
   "metadata": {
    "collapsed": true
   },
   "outputs": [],
   "source": [
    "#Uploading a CSV file\n",
    "file1 = drive.CreateFile({\"mimeType\": \"text/csv\"})\n",
    "file1.SetContentFile(\"something.csv\")\n",
    "file1.Upload()"
   ]
  },
  {
   "cell_type": "code",
   "execution_count": null,
   "metadata": {
    "collapsed": true
   },
   "outputs": [],
   "source": [
    "#Uploading an image file\n",
    "file1 = drive.CreateFile({\"mimeType\": \"image/png\"})\n",
    "file1.SetContentFile(\"My_image.jpg\")\n",
    "file1.Upload()"
   ]
  },
  {
   "cell_type": "code",
   "execution_count": null,
   "metadata": {
    "collapsed": true
   },
   "outputs": [],
   "source": [
    "#Uploading a video file\n",
    "file1 = drive.CreateFile({\"mimeType\": \"video/mp4\"})\n",
    "file1.SetContentFile(\"Second_ReducedFlick.mp4\")\n",
    "file1.Upload()"
   ]
  },
  {
   "cell_type": "markdown",
   "metadata": {
    "collapsed": true
   },
   "source": [
    "### Libraries"
   ]
  },
  {
   "cell_type": "code",
   "execution_count": null,
   "metadata": {
    "collapsed": true
   },
   "outputs": [],
   "source": [
    "# Enable Python3 compatibility\n",
    "from __future__ import (unicode_literals, absolute_import, print_function,\n",
    "                        division)\n",
    "\n",
    "# Import Google libraries\n",
    "from pydrive.auth import GoogleAuth\n",
    "from pydrive.drive import GoogleDrive\n",
    "from pydrive.files import GoogleDriveFileList\n",
    "import googleapiclient.errors\n",
    "\n",
    "# Import general libraries\n",
    "from argparse import ArgumentParser\n",
    "from os import chdir, listdir, stat\n",
    "from sys import exit\n",
    "import ast"
   ]
  },
  {
   "cell_type": "markdown",
   "metadata": {},
   "source": [
    "### Create Folder Function"
   ]
  },
  {
   "cell_type": "code",
   "execution_count": null,
   "metadata": {
    "collapsed": true
   },
   "outputs": [],
   "source": [
    "#Create Folder on Google Drive\n",
    "\n",
    "def create_folder(drive, folder_name, parent_folder_id):\n",
    "    folder_metadata = {\n",
    "        'title': folder_name,\n",
    "        # Define the file type as folder\n",
    "        'mimeType': 'application/vnd.google-apps.folder',\n",
    "        # ID of the parent folder        \n",
    "        'parents': [{\"kind\": \"drive#fileLink\", \"id\": parent_folder_id}]\n",
    "    }\n",
    "\n",
    "    folder = drive.CreateFile(folder_metadata)\n",
    "    folder.Upload()\n",
    "\n",
    "    # Return folder informations\n",
    "    #print('title: %s, id: %s' % (folder['title'], folder['id'])\n",
    "    return (folder['id'])\n"
   ]
  },
  {
   "cell_type": "code",
   "execution_count": null,
   "metadata": {
    "collapsed": true
   },
   "outputs": [],
   "source": [
    "#Example:\n",
    "id = '1iQdiPS6AcGZJ7vzK5IPGq_2hunccRTNK'\n",
    "id_new=create_folder(drive, 'new', id)"
   ]
  },
  {
   "cell_type": "code",
   "execution_count": null,
   "metadata": {
    "collapsed": true
   },
   "outputs": [],
   "source": [
    "id_new"
   ]
  },
  {
   "cell_type": "markdown",
   "metadata": {},
   "source": [
    "### Upload Files Function"
   ]
  },
  {
   "cell_type": "code",
   "execution_count": null,
   "metadata": {
    "collapsed": true
   },
   "outputs": [],
   "source": [
    "#Upload all files from a local folder to a specific folders in the google drive\n",
    "\n",
    "def upload_files(drive, folder_id, src_folder_name):\n",
    "\n",
    "    # Enter the source folder\n",
    "    try:\n",
    "        chdir(src_folder_name)\n",
    "    # Print error if source folder doesn't exist\n",
    "    except OSError:\n",
    "        print(src_folder_name + 'is missing')\n",
    "    # Auto-iterate through all files in the folder.\n",
    "    for file1 in listdir('.'):\n",
    "        # Check the file's size\n",
    "        statinfo = stat(file1)\n",
    "        if statinfo.st_size > 0:\n",
    "            print('uploading ' + file1)\n",
    "            # Upload file to folder.\n",
    "            f = drive.CreateFile(\n",
    "                {\"parents\": [{\"kind\": \"drive#fileLink\", \"id\": folder_id}]})\n",
    "            f.SetContentFile(file1)\n",
    "            f.Upload()\n",
    "        # Skip the file if it's empty\n",
    "        else:\n",
    "            print('file {0} is empty'.format(file1))\n"
   ]
  },
  {
   "cell_type": "code",
   "execution_count": null,
   "metadata": {
    "collapsed": true
   },
   "outputs": [],
   "source": [
    "#Example\n",
    "upload_files(drive, id_new, 'Test')"
   ]
  },
  {
   "cell_type": "markdown",
   "metadata": {
    "collapsed": true
   },
   "source": [
    "### Downloading a File"
   ]
  },
  {
   "cell_type": "code",
   "execution_count": null,
   "metadata": {
    "collapsed": true
   },
   "outputs": [],
   "source": [
    "# Initialize GoogleDriveFile instance with file id. (THIS WORKS - TESTED)\n",
    "file_obj = drive.CreateFile({'id': '1KwiMT5r8X78ufB31s4Ufri4wcfYquUWF'})\n",
    "file_obj.GetContentFile('abc.mp4')"
   ]
  },
  {
   "cell_type": "markdown",
   "metadata": {
    "collapsed": true
   },
   "source": [
    "### Getting the list if files from a parent folder in Google Drive"
   ]
  },
  {
   "cell_type": "code",
   "execution_count": 8,
   "metadata": {
    "collapsed": true
   },
   "outputs": [],
   "source": [
    "#Get the list of files from a specific folder in google drive\n",
    "\n",
    "def list_folder(folder_id):\n",
    "    # folder_id: GoogleDriveFile['id']\n",
    "    _q = {'q': \"'{}' in parents and trashed=false\".format(folder_id)}\n",
    "    return drive.ListFile(_q).GetList()"
   ]
  },
  {
   "cell_type": "code",
   "execution_count": null,
   "metadata": {
    "collapsed": true
   },
   "outputs": [],
   "source": [
    "raw_sub_contents = list_folder(\"1xdmnsYJFPjFO9IDMzV5znJMWxRQD5mm-\")"
   ]
  },
  {
   "cell_type": "code",
   "execution_count": null,
   "metadata": {
    "collapsed": true
   },
   "outputs": [],
   "source": [
    "{item['title']:item['id'] for item in raw_sub_contents if item['mimeType'] != 'application/vnd.google-apps.folder'}"
   ]
  },
  {
   "cell_type": "markdown",
   "metadata": {
    "collapsed": true
   },
   "source": [
    "### Reference"
   ]
  },
  {
   "cell_type": "markdown",
   "metadata": {},
   "source": [
    "Downloading files: https://stackoverflow.com/questions/38511444/python-download-files-from-google-drive-using-url"
   ]
  },
  {
   "cell_type": "markdown",
   "metadata": {},
   "source": [
    "Python Script for upload download (google drive): https://gist.github.com/jmlrt/f524e1a45205a0b9f169eb713a223330"
   ]
  },
  {
   "cell_type": "markdown",
   "metadata": {},
   "source": [
    "How to upload a CSV file? https://marquinsmith.com/2017/08/08/loading-files-to-google-drive-using-python/"
   ]
  },
  {
   "cell_type": "markdown",
   "metadata": {},
   "source": [
    "How to find google folder id? \n",
    "https://googleappsscriptdeveloper.wordpress.com/2017/03/04/how-to-find-your-google-drive-folder-id/"
   ]
  },
  {
   "cell_type": "markdown",
   "metadata": {},
   "source": [
    "### Implementation"
   ]
  },
  {
   "cell_type": "markdown",
   "metadata": {},
   "source": [
    "#### Experiment 1:\n",
    "\n",
    "**Task 1**\n",
    "Create a new folder named 'Uploads' inside the folder 'Test Upload Download' in Google Drive. Upload the content of the local folder named 'Google Drive Demo' present in your desktop to the new folder created in the drive.\n",
    "\n",
    "**Task 2**\n",
    "Look for the csv file names 'something.csv' inside the folder 'Uploads' in the drive and download it in the local folder named 'Google Drive Downloads' in your desktop"
   ]
  },
  {
   "cell_type": "code",
   "execution_count": null,
   "metadata": {
    "collapsed": true
   },
   "outputs": [],
   "source": [
    "import os\n",
    "os.chdir(r'C:\\Users\\Gourab\\Desktop\\Python\\Google Drive')"
   ]
  },
  {
   "cell_type": "code",
   "execution_count": null,
   "metadata": {
    "collapsed": true
   },
   "outputs": [],
   "source": [
    "import Drive_create_folder as create\n",
    "import Drive_upload_files as upload\n",
    "import Drive_download_file as download"
   ]
  },
  {
   "cell_type": "code",
   "execution_count": null,
   "metadata": {
    "collapsed": true
   },
   "outputs": [],
   "source": [
    "#Task 1\n",
    "\n",
    "#Create a folder in Google Drive:\n",
    "\n",
    "#ID of the parent folder (copied from Drive Link)\n",
    "parent_id = '1iQdiPS6AcGZJ7vzK5IPGq_2hunccRTNK'\n",
    "\n",
    "#Create the Folder 'Uploads' in Google Drive\n",
    "child_id  = create_folder(drive, 'Uploads', id)\n"
   ]
  },
  {
   "cell_type": "code",
   "execution_count": null,
   "metadata": {
    "collapsed": true
   },
   "outputs": [],
   "source": [
    "child_id"
   ]
  },
  {
   "cell_type": "code",
   "execution_count": null,
   "metadata": {
    "collapsed": true
   },
   "outputs": [],
   "source": [
    "#Upload files\n",
    "upload_files(drive, child_id, 'C:\\\\Users\\\\Gourab\\\\Desktop\\\\Google Drive')"
   ]
  },
  {
   "cell_type": "markdown",
   "metadata": {
    "collapsed": true
   },
   "source": [
    "____________________________________________________________________________________________________________"
   ]
  },
  {
   "cell_type": "code",
   "execution_count": null,
   "metadata": {
    "collapsed": true
   },
   "outputs": [],
   "source": [
    "#Task 2\n",
    "\n",
    "#List all the files inside the child folder\n",
    "def list_folder(folder_id):\n",
    "    # folder_id: GoogleDriveFile['id']\n",
    "    _q = {'q': \"'{}' in parents and trashed=false\".format(folder_id)}\n",
    "    return drive.ListFile(_q).GetList()\n",
    "\n"
   ]
  },
  {
   "cell_type": "code",
   "execution_count": null,
   "metadata": {
    "collapsed": true
   },
   "outputs": [],
   "source": [
    "raw_sub_contents = list_folder(child_id)\n",
    "files = {item['title']:item['id'] for item in raw_sub_contents if item['mimeType'] != 'application/vnd.google-apps.folder'}\n",
    "files"
   ]
  },
  {
   "cell_type": "code",
   "execution_count": null,
   "metadata": {
    "collapsed": true
   },
   "outputs": [],
   "source": [
    "#Get the id of the file to be downloaded\n",
    "file_name = 'something.csv.csv'\n",
    "file_id = files[file_name]\n",
    "\n",
    "#Download the file\n"
   ]
  },
  {
   "cell_type": "code",
   "execution_count": null,
   "metadata": {
    "collapsed": true
   },
   "outputs": [],
   "source": [
    "file_obj = drive.CreateFile({'id': file_id})\n",
    "file_obj.GetContentFile('C:\\\\Users\\\\Gourab\\\\Desktop\\\\Google Drive Downloads\\\\something.csv')"
   ]
  },
  {
   "cell_type": "markdown",
   "metadata": {
    "collapsed": true
   },
   "source": [
    "_____________________________________________________________________________________________________________________"
   ]
  },
  {
   "cell_type": "markdown",
   "metadata": {},
   "source": [
    "### Get Sharable Links"
   ]
  },
  {
   "cell_type": "markdown",
   "metadata": {},
   "source": [
    "https://drive.google.com/open?id=1Oj50U_foYQHrDGUbiQwyk7nN1L8tSRqN\n",
    "https://drive.google.com/open?id=1FQt1yT4-3qsQVkwc3wdYY-gaRWMdKTCw\n",
    "https://drive.google.com/open?id=1i2OjknzzQjbcjeQp2FnmempHzMSKOCeD"
   ]
  },
  {
   "cell_type": "code",
   "execution_count": null,
   "metadata": {
    "collapsed": true
   },
   "outputs": [],
   "source": [
    "files"
   ]
  },
  {
   "cell_type": "code",
   "execution_count": null,
   "metadata": {
    "collapsed": true
   },
   "outputs": [],
   "source": [
    "#Get URL for single file\n",
    "url = 'https://drive.google.com/open?id='\n",
    "url+file_id"
   ]
  },
  {
   "cell_type": "code",
   "execution_count": null,
   "metadata": {
    "collapsed": true
   },
   "outputs": [],
   "source": [
    "#Get only the mp4 file names and their url\n",
    "url = 'https://drive.google.com/open?id='\n",
    "\n",
    "URL = {}\n",
    "for file in list(files.keys()):\n",
    "    if '.mp4' in file:\n",
    "        URL[file] = url+files[file]"
   ]
  },
  {
   "cell_type": "code",
   "execution_count": null,
   "metadata": {
    "collapsed": true
   },
   "outputs": [],
   "source": [
    "URL"
   ]
  },
  {
   "cell_type": "markdown",
   "metadata": {},
   "source": [
    "Bitly API: https://github.com/bitly/bitly-api-python"
   ]
  },
  {
   "cell_type": "markdown",
   "metadata": {
    "collapsed": true
   },
   "source": [
    "### Implementation"
   ]
  },
  {
   "cell_type": "markdown",
   "metadata": {},
   "source": [
    "#### Experiment 2"
   ]
  },
  {
   "cell_type": "markdown",
   "metadata": {},
   "source": [
    "There is a folder in your desktop names 'Google Drive'. Inside the folder there are two sub folders - 'Cam1' and 'Cam2'.\n",
    "There is a folder in your Google Drive named 'Test Upload Download'.\n",
    "\n",
    "**Task 1**\n",
    "* 1: Set your working directory to the 'Google Drive' local folder.\n",
    "* 2: Create an empty folder named 'Cam1' in your google drive and upload the contents of your local 'Cam1' folder there.\n",
    "* 3: Repeat step 2 for the 'Cam2' folder as well.\n",
    "\n",
    "**Task 2**\n",
    "* 1: Get the csv files from the 'Cam1' and 'Cam2' folders from the Google Drive\n",
    "\n",
    "**Task 3**\n",
    "* Get the sharable links to all the video files in each folders."
   ]
  },
  {
   "cell_type": "code",
   "execution_count": 1,
   "metadata": {
    "collapsed": true
   },
   "outputs": [],
   "source": [
    "import os\n",
    "import time"
   ]
  },
  {
   "cell_type": "code",
   "execution_count": null,
   "metadata": {
    "collapsed": true
   },
   "outputs": [],
   "source": [
    "#TASK 1 - UPLOADING\n",
    "\n",
    "#Set the working directory\n",
    "direc = 'C:\\\\Users\\\\Gourab\\\\Desktop\\\\Google Drive'\n",
    "os.chdir(direc)\n",
    "\n",
    "#ID of the parent folder in Google Drive (The 'Test Upload Download' Folder)\n",
    "parent_id = '1iQdiPS6AcGZJ7vzK5IPGq_2hunccRTNK'\n",
    "\n",
    "child_ids = []\n",
    "\n",
    "#Get the list of local folders\n",
    "local_files = os.listdir()\n",
    "\n",
    "for file in local_files:\n",
    "    #Re-set the working directory\n",
    "    os.chdir(direc)\n",
    "    \n",
    "    #Create an empty folder in Google Drive with the same file name\n",
    "    child_id = create_folder(drive, file, parent_id)\n",
    "    child_ids.append(child_id)\n",
    "    #print(child_id)\n",
    "    \n",
    "    #UPload the content of the local folder in the Remote folder\n",
    "    print('File Name', file)\n",
    "    upload_files(drive, child_id, file)"
   ]
  },
  {
   "cell_type": "code",
   "execution_count": 10,
   "metadata": {
    "collapsed": true
   },
   "outputs": [],
   "source": [
    "#TAKS 2 - DOWNLOADING\n",
    "parent_id = '1iQdiPS6AcGZJ7vzK5IPGq_2hunccRTNK'\n",
    "save_dir = 'C:\\\\Users\\\\DELL\\\\Desktop\\\\Drive'\n",
    "\n",
    "#Get the folder ID from Drive\n",
    "raw_sub_contents = list_folder(parent_id)\n",
    "folders = {item['title']:item['id'] for item in raw_sub_contents}\n",
    "folders\n",
    "\n",
    "\n",
    "for folder in list(folders.keys()):\n",
    "    #Set the id to the folder\n",
    "    folder_id = folders[folder]\n",
    "\n",
    "    \n",
    "    #Get the csv file from the folder\n",
    "    raw_sub_contents2 = list_folder(folder_id)\n",
    "    files = {item['title']:item['id'] for item in raw_sub_contents2}\n",
    "    for file in list(files.keys()):\n",
    "        if '.xls' in file:\n",
    "            get_id = files[file]    \n",
    "    \n",
    "    #Download the file\n",
    "    file_obj = drive.CreateFile({'id': get_id})\n",
    "    file_obj.GetContentFile(save_dir+'\\\\'+folder+'.xls')"
   ]
  },
  {
   "cell_type": "code",
   "execution_count": null,
   "metadata": {
    "collapsed": true
   },
   "outputs": [],
   "source": [
    "# TASK 3 - GET SHARABLE LINKS\n",
    "\n",
    "#Get the folder ID from Drive\n",
    "raw_sub_contents = list_folder(parent_id)\n",
    "folders = {item['title']:item['id'] for item in raw_sub_contents}\n",
    "links = {}\n",
    "\n",
    "\n",
    "for folder in list(folders.keys()):\n",
    "    #Set the id to the folder\n",
    "    folder_id = folders[folder]\n",
    "\n",
    "    \n",
    "    #Get the csv file from the folder\n",
    "    raw_sub_contents2 = list_folder(folder_id)\n",
    "    files = {item['title']:item['id'] for item in raw_sub_contents2}\n",
    "    link = []\n",
    "    url = 'https://drive.google.com/open?id='\n",
    "    for file in list(files.keys()):\n",
    "        if '.mp4' in file:\n",
    "            get_id = files[file]\n",
    "            link.append(url+get_id)\n",
    "            \n",
    "    links[folder] = link   \n",
    "\n"
   ]
  },
  {
   "cell_type": "code",
   "execution_count": null,
   "metadata": {
    "collapsed": true
   },
   "outputs": [],
   "source": [
    "print(links)"
   ]
  },
  {
   "cell_type": "code",
   "execution_count": null,
   "metadata": {
    "collapsed": true
   },
   "outputs": [],
   "source": [
    "os.chdir(r'C:\\Users\\Gourab\\Desktop')"
   ]
  },
  {
   "cell_type": "code",
   "execution_count": null,
   "metadata": {
    "collapsed": true
   },
   "outputs": [],
   "source": [
    "### TASK 4: Creating Hyperlinks\n",
    "\n",
    "#For each of the camera folders create an excel file containing hyperlinks\n",
    "\n",
    "for folder in list(links.keys()):\n",
    "    # Create a new workbook and add a worksheet\n",
    "    workbook = xlsxwriter.Workbook(folder+'.xlsx')\n",
    "    worksheet = workbook.add_worksheet('Student_Name')  #Make it dynamic later\n",
    "    \n",
    "    # Format the first column\n",
    "    worksheet.set_column('A:A', 30)\n",
    "    \n",
    "    count = 0\n",
    "    for i in range(1,len(links[folder])+1):\n",
    "        count +=1\n",
    "        worksheet.write_url('A'+str(i), links[folder][i-1], string = str(count))\n",
    "\n",
    "    workbook.close()\n",
    "    \n"
   ]
  },
  {
   "cell_type": "code",
   "execution_count": null,
   "metadata": {
    "collapsed": true
   },
   "outputs": [],
   "source": [
    "links['Cam1']"
   ]
  },
  {
   "cell_type": "markdown",
   "metadata": {},
   "source": [
    "### APPENDIX: Create Hyperlinks"
   ]
  },
  {
   "cell_type": "code",
   "execution_count": null,
   "metadata": {
    "collapsed": true
   },
   "outputs": [],
   "source": [
    "import pandas as pd\n",
    "hyp = pd.read_csv(r\"C:\\Users\\Gourab\\Documents\\Hyperlink.csv\")"
   ]
  },
  {
   "cell_type": "code",
   "execution_count": null,
   "metadata": {
    "collapsed": true
   },
   "outputs": [],
   "source": [
    "hyp"
   ]
  },
  {
   "cell_type": "code",
   "execution_count": null,
   "metadata": {
    "collapsed": true
   },
   "outputs": [],
   "source": [
    "import xlsxwriter"
   ]
  },
  {
   "cell_type": "code",
   "execution_count": null,
   "metadata": {
    "collapsed": true
   },
   "outputs": [],
   "source": [
    "# Create a new workbook and add a worksheet\n",
    "workbook = xlsxwriter.Workbook('cam1.xlsx')\n",
    "worksheet = workbook.add_worksheet('Student_Name')\n",
    "\n",
    "# Format the first column\n",
    "worksheet.set_column('A:A', 30)\n",
    "\n",
    "for i in range(1,len(hyp)+1):\n",
    "    worksheet.write_url('A'+str(i), hyp.iloc[i-1,0], string = hyp.iloc[i-1,1])\n",
    "    \n",
    "workbook.close()"
   ]
  },
  {
   "cell_type": "markdown",
   "metadata": {},
   "source": [
    "Ref: https://xlsxwriter.readthedocs.io/example_hyperlink.html"
   ]
  },
  {
   "cell_type": "markdown",
   "metadata": {},
   "source": [
    "#### Find out how to copy a column from CSV file to XLSX file"
   ]
  },
  {
   "cell_type": "code",
   "execution_count": null,
   "metadata": {
    "collapsed": true
   },
   "outputs": [],
   "source": [
    "#Reading an excel file using pandas\n",
    "excel = pd.read_excel('Advertising.xlsx')"
   ]
  },
  {
   "cell_type": "code",
   "execution_count": null,
   "metadata": {
    "collapsed": true
   },
   "outputs": [],
   "source": [
    "excel['const'] = 1"
   ]
  },
  {
   "cell_type": "code",
   "execution_count": null,
   "metadata": {
    "collapsed": true
   },
   "outputs": [],
   "source": [
    "excel['Link'] = excel['TV']\n",
    "excel.head()"
   ]
  },
  {
   "cell_type": "code",
   "execution_count": 5,
   "metadata": {
    "collapsed": true
   },
   "outputs": [],
   "source": [
    "from pydrive.auth import GoogleAuth\n",
    "from pydrive.drive import GoogleDrive"
   ]
  },
  {
   "cell_type": "code",
   "execution_count": 6,
   "metadata": {
    "collapsed": false
   },
   "outputs": [
    {
     "name": "stdout",
     "output_type": "stream",
     "text": [
      "Your browser has been opened to visit:\n",
      "\n",
      "    https://accounts.google.com/o/oauth2/auth?client_id=1071550298372-838out6alj090oki20h6ucol5c8j04hv.apps.googleusercontent.com&redirect_uri=http%3A%2F%2Flocalhost%3A8080%2F&scope=https%3A%2F%2Fwww.googleapis.com%2Fauth%2Fdrive&access_type=offline&response_type=code\n",
      "\n",
      "Authentication successful.\n"
     ]
    }
   ],
   "source": [
    "gauth = GoogleAuth()\n",
    "gauth.LocalWebserverAuth()\n",
    "\n",
    "drive = GoogleDrive(gauth)\n",
    "\n",
    "file1 = drive.CreateFile({'title': 'Hello.txt'})  # Create GoogleDriveFile instance with title 'Hello.txt'.\n",
    "file1.SetContentString('Hello World!') # Set content of the file from given string.\n",
    "file1.Upload()"
   ]
  },
  {
   "cell_type": "code",
   "execution_count": null,
   "metadata": {
    "collapsed": true
   },
   "outputs": [],
   "source": []
  }
 ],
 "metadata": {
  "kernelspec": {
   "display_name": "Python 3",
   "language": "python",
   "name": "python3"
  },
  "language_info": {
   "codemirror_mode": {
    "name": "ipython",
    "version": 3
   },
   "file_extension": ".py",
   "mimetype": "text/x-python",
   "name": "python",
   "nbconvert_exporter": "python",
   "pygments_lexer": "ipython3",
   "version": "3.6.0"
  }
 },
 "nbformat": 4,
 "nbformat_minor": 2
}
