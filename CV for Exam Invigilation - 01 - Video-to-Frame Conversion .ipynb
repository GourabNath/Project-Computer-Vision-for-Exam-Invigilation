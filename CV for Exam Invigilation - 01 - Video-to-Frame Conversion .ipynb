{
 "cells": [
  {
   "cell_type": "markdown",
   "metadata": {},
   "source": [
    "## Converting Videos to Frames"
   ]
  },
  {
   "cell_type": "code",
   "execution_count": 17,
   "metadata": {
    "collapsed": false
   },
   "outputs": [
    {
     "name": "stdout",
     "output_type": "stream",
     "text": [
      "Read a new frame:  True\n",
      "Read a new frame:  True\n",
      "Read a new frame:  True\n",
      "Read a new frame:  True\n",
      "Read a new frame:  True\n",
      "Read a new frame:  True\n",
      "Read a new frame:  True\n",
      "Read a new frame:  True\n",
      "Read a new frame:  True\n",
      "Read a new frame:  True\n",
      "Read a new frame:  True\n",
      "Read a new frame:  True\n",
      "Read a new frame:  True\n",
      "Read a new frame:  True\n",
      "Read a new frame:  True\n",
      "Read a new frame:  True\n",
      "Read a new frame:  True\n",
      "Read a new frame:  True\n",
      "Read a new frame:  True\n",
      "Read a new frame:  True\n",
      "Read a new frame:  True\n",
      "Read a new frame:  True\n",
      "Read a new frame:  True\n",
      "Read a new frame:  True\n",
      "Read a new frame:  True\n",
      "Read a new frame:  True\n",
      "Read a new frame:  True\n",
      "Read a new frame:  True\n",
      "Read a new frame:  True\n",
      "Read a new frame:  True\n",
      "Read a new frame:  True\n",
      "Read a new frame:  True\n",
      "Read a new frame:  True\n",
      "Read a new frame:  True\n",
      "Read a new frame:  True\n",
      "Read a new frame:  True\n",
      "Read a new frame:  True\n",
      "Read a new frame:  True\n",
      "Read a new frame:  True\n",
      "Read a new frame:  True\n",
      "Read a new frame:  True\n",
      "Read a new frame:  True\n",
      "Read a new frame:  True\n"
     ]
    }
   ],
   "source": [
    "## For reading alternate frames and generating the images\n",
    "\n",
    "import cv2\n",
    "#print(cv2.__version__)\n",
    "\n",
    "vidcap = cv2.VideoCapture('E:\\\\Praxis\\\\TERM 3\\\\Capstone\\\\Videos for accuracy\\\\Sujeevna\\\\LeftNorm.mp4')  #1\n",
    "success,image = vidcap.read()                                                                           #2\n",
    "count = 0 \n",
    "success = True                                                                                          #3\n",
    "\n",
    "i=9  \n",
    "while success:\n",
    "    if i%9 == 0:                                                                                         #4                                                                                    \n",
    "        cv2.imwrite(\"E:\\\\Praxis\\\\TERM 3\\\\Capstone\\\\Videos for accuracy\\\\Sujeevna\\\\LeftNormImg\\\\SUJ_%d.jpg\" % count, image)  #5\n",
    "        print('Read a new frame: ', success)\n",
    "        count += 1                                                                                       #6\n",
    "    success,image = vidcap.read()                                                                        #7\n",
    "    i = i+1\n",
    "    \n",
    "\n",
    "#Comments:\n",
    "\n",
    "#1: Point out to a video\n",
    "#2: vidcap.read() returns a tuple (True, pixel value for RGB), if the image for the next video frame is found, else return (False, none)\n",
    "#3: success is initially set to true. This will help us in the while loop\n",
    "#4: The video-to-frame gives us like 30 frames per second. We are using i%9 to get 3 videos per second. (1 will range from 1 tp 30 and there will be 3 instances where i%9 will be equal to 0)\n",
    "#5: save frame as JPEG file\n",
    "#6: 'count' is used to give the file names as SUJ1.jpg, SUJ2.jpg, etc.\n",
    "#7: gets the next frame. If success is True then the loop continues otherwise it breaks"
   ]
  },
  {
   "cell_type": "code",
   "execution_count": null,
   "metadata": {
    "collapsed": true
   },
   "outputs": [],
   "source": []
  }
 ],
 "metadata": {
  "kernelspec": {
   "display_name": "Python 3",
   "language": "python",
   "name": "python3"
  },
  "language_info": {
   "codemirror_mode": {
    "name": "ipython",
    "version": 3
   },
   "file_extension": ".py",
   "mimetype": "text/x-python",
   "name": "python",
   "nbconvert_exporter": "python",
   "pygments_lexer": "ipython3",
   "version": "3.6.0"
  }
 },
 "nbformat": 4,
 "nbformat_minor": 2
}
